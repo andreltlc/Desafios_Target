{
 "cells": [
  {
   "cell_type": "markdown",
   "metadata": {},
   "source": [
    "## Questão 1\n",
    "\n",
    "``` txt\n",
    "Observe o trecho de código abaixo: int INDICE = 13, SOMA = 0, K = 0;\n",
    "Enquanto K < INDICE faça { K = K + 1; SOMA = SOMA + K; }\n",
    "Imprimir(SOMA);\n",
    "Ao final do processamento, qual será o valor da variável SOMA? \n",
    "```"
   ]
  },
  {
   "cell_type": "code",
   "execution_count": 1,
   "metadata": {},
   "outputs": [
    {
     "name": "stdout",
     "output_type": "stream",
     "text": [
      "91\n"
     ]
    }
   ],
   "source": [
    "indice = 13\n",
    "SOMA = 0\n",
    "K = 0\n",
    "\n",
    "def soma(K, SOMA, indice):\n",
    "    while K < indice:\n",
    "        K += 1\n",
    "        SOMA += K\n",
    "    return SOMA\n",
    "\n",
    "print(soma(K, SOMA, indice))"
   ]
  },
  {
   "cell_type": "markdown",
   "metadata": {},
   "source": [
    "## Questão 2\n",
    "``` txt\n",
    "Dado a sequência de Fibonacci, onde se inicia por 0 e 1 e o próximo valor sempre será a soma dos 2 valores anteriores (exemplo: 0, 1, 1, 2, 3, 5, 8, 13, 21, 34...), escreva um programa na linguagem que desejar onde, informado um número, ele calcule a sequência de Fibonacci e retorne uma mensagem avisando se o número informado pertence ou não a sequência.\n",
    "\n",
    "IMPORTANTE: Esse número pode ser informado através de qualquer entrada de sua preferência ou pode ser previamente definido no código;\n",
    "```\n",
    "\n"
   ]
  },
  {
   "cell_type": "code",
   "execution_count": 8,
   "metadata": {},
   "outputs": [
    {
     "name": "stdout",
     "output_type": "stream",
     "text": [
      "Is that number a Fibonacci number?\n",
      "False\n"
     ]
    }
   ],
   "source": [
    "\n",
    "def isFibonacci(n):\n",
    "    a = 0\n",
    "    b = 1\n",
    "    while b < n:\n",
    "        a, b = b, a + b\n",
    "    if b == n:\n",
    "        return True\n",
    "    else:\n",
    "        return False\n",
    "\n",
    "n = int(input(\"Insira um número: \"))\n",
    "print(\"Is that number a Fibonacci number?\")\n",
    "print(isFibonacci(n))\n"
   ]
  },
  {
   "cell_type": "markdown",
   "metadata": {},
   "source": [
    "## Questão 3\n",
    "``` txt\n",
    "Dado um vetor que guarda o valor de faturamento diário de uma distribuidora, faça um programa, na linguagem que desejar, que calcule e retorne:\n",
    "• O menor valor de faturamento ocorrido em um dia do mês;\n",
    "• O maior valor de faturamento ocorrido em um dia do mês;\n",
    "• Número de dias no mês em que o valor de faturamento diário foi superior à média mensal.\n",
    "\n",
    "IMPORTANTE:\n",
    "a) Usar o json ou xml disponível como fonte dos dados do faturamento mensal;\n",
    "b) Podem existir dias sem faturamento, como nos finais de semana e feriados. Estes dias devem ser ignorados no cálculo da média;\n",
    "```"
   ]
  },
  {
   "cell_type": "code",
   "execution_count": 52,
   "metadata": {},
   "outputs": [
    {
     "name": "stdout",
     "output_type": "stream",
     "text": [
      "Menor valor: 1500.0\n",
      "Maior valor: 3600.75\n",
      "Dias acima da média: 11\n"
     ]
    }
   ],
   "source": [
    "import json\n",
    "\n",
    "db = json.loads(open('data/faturamento.json').read())\n",
    "\n",
    "\n",
    "\n",
    "\n",
    "def calc_med(db):\n",
    "    i =0\n",
    "    total =0\n",
    "    for dia in db[\"faturamento_diario\"]:\n",
    "        total += dia[\"valor\"]\n",
    "        if dia[\"valor\"] > 0:\n",
    "            i+=1\n",
    "        \n",
    "    total = total / i\n",
    "    return total\n",
    "\n",
    "def calc_menor(db):\n",
    "    menor = float('inf')\n",
    "    for dia in db[\"faturamento_diario\"]:\n",
    "        if dia[\"valor\"] < menor and dia[\"valor\"] > 0:\n",
    "            menor = dia[\"valor\"]\n",
    "    return menor\n",
    "\n",
    "def calc_maior(db):\n",
    "    maior = float('-inf')\n",
    "    for dia in db[\"faturamento_diario\"]:\n",
    "        if dia[\"valor\"] > maior:\n",
    "            maior = dia[\"valor\"]\n",
    "    return maior\n",
    "\n",
    "def calc_dias_acima_media(db):\n",
    "    media = calc_med(db)\n",
    "    diasA= 0\n",
    "    for dia in db[\"faturamento_diario\"]:\n",
    "        if dia[\"valor\"] > media:\n",
    "            diasA += 1\n",
    "    return diasA\n",
    "\n",
    "print(\"Menor valor: \" + str(calc_menor(db)))\n",
    "print(\"Maior valor: \" + str(calc_maior(db)))\n",
    "print(\"Dias acima da média: \" + str(calc_dias_acima_media(db)))\n",
    "\n",
    "\n",
    "\n"
   ]
  },
  {
   "cell_type": "markdown",
   "metadata": {},
   "source": [
    "## Questão 4\n",
    "\n",
    "``` txt\n",
    "Dado o valor de faturamento mensal de uma distribuidora, detalhado por estado:\n",
    "• SP – R$67.836,43\n",
    "• RJ – R$36.678,66\n",
    "• MG – R$29.229,88\n",
    "• ES – R$27.165,48\n",
    "• Outros – R$19.849,53\n",
    "\n",
    "Escreva um programa na linguagem que desejar onde calcule o percentual de representação que cada estado teve dentro do valor total mensal da distribuidora.  \n",
    "```"
   ]
  },
  {
   "cell_type": "code",
   "execution_count": 26,
   "metadata": {},
   "outputs": [
    {
     "name": "stdout",
     "output_type": "stream",
     "text": [
      "[['SP', 37.52845624346716], ['RJ', 20.291360952794975], ['MG', 16.170548370275323], ['ES', 15.028481414968068], ['Outros', 10.981153018494469]]\n"
     ]
    }
   ],
   "source": [
    "x =[[\"SP\", 67836.43,],\n",
    "    [\"RJ\", 36678.66],\n",
    "    [\"MG\", 29229.88],\n",
    "    [\"ES\", 27165.48],\n",
    "    [\"Outros\", 19849.53]]\n",
    "total = 0\n",
    "def calculate_total(x):\n",
    "    global total\n",
    "    for i in range(0, 5):\n",
    "        total += x[i][1]\n",
    "    return total\n",
    "\n",
    "\n",
    "def calc_perct(x):\n",
    "    y= []\n",
    "    a = calculate_total(x)\n",
    "    for i in range(len(x)):\n",
    "        estado = x[i][0]\n",
    "        percentual = (x[i][1] / a) * 100\n",
    "        y.append([estado, percentual])\n",
    "    return y\n",
    "\n",
    "\n",
    "\n",
    "print(calc_perct(x))"
   ]
  },
  {
   "cell_type": "markdown",
   "metadata": {},
   "source": [
    "## Questão 5\n",
    "\n",
    "``` txt\n",
    "Escreva um programa que inverta os caracteres de um string.\n",
    "\n",
    "IMPORTANTE:\n",
    "a) Essa string pode ser informada através de qualquer entrada de sua preferência ou pode ser previamente definida no código;\n",
    "b) Evite usar funções prontas, como, por exemplo, reverse;\n",
    "```"
   ]
  },
  {
   "cell_type": "code",
   "execution_count": 29,
   "metadata": {},
   "outputs": [
    {
     "name": "stdout",
     "output_type": "stream",
     "text": [
      "asac\n"
     ]
    }
   ],
   "source": [
    "x = str(input(\"Insira uma palavra: \"))\n",
    "\n",
    "def reverse(x):\n",
    "   print( x[::-1])\n",
    "reverse(x)"
   ]
  },
  {
   "cell_type": "markdown",
   "metadata": {},
   "source": []
  }
 ],
 "metadata": {
  "kernelspec": {
   "display_name": "Python 3",
   "language": "python",
   "name": "python3"
  },
  "language_info": {
   "codemirror_mode": {
    "name": "ipython",
    "version": 3
   },
   "file_extension": ".py",
   "mimetype": "text/x-python",
   "name": "python",
   "nbconvert_exporter": "python",
   "pygments_lexer": "ipython3",
   "version": "3.12.7"
  }
 },
 "nbformat": 4,
 "nbformat_minor": 2
}
